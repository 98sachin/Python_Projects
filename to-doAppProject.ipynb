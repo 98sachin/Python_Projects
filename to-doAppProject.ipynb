{
 "cells": [
  {
   "cell_type": "markdown",
   "id": "90364563-20b9-454a-8258-da490f50a8bd",
   "metadata": {},
   "source": [
    "# A simple TO-DO app project\n",
    "\n",
    "### Goal\n",
    "#### Create a simple program that:-\n",
    "- Asks how many tasks the user wants to add\n",
    "- Takes that many tasks input and stores them in a list\n",
    "- Prints the full to-do list in the end"
   ]
  },
  {
   "cell_type": "code",
   "execution_count": 3,
   "id": "9fdbdbdb-fd93-4680-b2dd-53f9935eb128",
   "metadata": {},
   "outputs": [
    {
     "name": "stdin",
     "output_type": "stream",
     "text": [
      "Enter the number of tasks you want to add:  4\n",
      "Enter task 1:  complete homework\n",
      "Enter task 2:  prepare for dinner\n",
      "Enter task 3:  revise the topics\n",
      "Enter task 4:  call maa\n"
     ]
    },
    {
     "name": "stdout",
     "output_type": "stream",
     "text": [
      "\n",
      " Your ToDo List: \n",
      "1. complete homework\n",
      "2. prepare for dinner\n",
      "3. revise the topics\n",
      "4. call maa\n"
     ]
    }
   ],
   "source": [
    "# Step1: ask how many task the user wants to add\n",
    "add_task = int(input(\"Enter the number of tasks you want to add: \"));\n",
    "todo_list = [];\n",
    "\n",
    "for i in range(add_task):\n",
    "    task = input(f\"Enter task {i+1}: \"); # because range will start the count from 0 as we have not given the starting number in the range function i.e., we are using i+1 so that it starts the count from 1. \n",
    "    todo_list.append(task);\n",
    "\n",
    "# To print the full todo list\n",
    "print(\"\\n Your ToDo List: \");\n",
    "for i, task in enumerate(todo_list, start=1):  # enumerate() function adds a counter to each item in a list or other iterable. It turns the iterable into something we can loop through, where each item comes with its number (starting from 0 by default). We can also turn it into a list of (number, item) pairs using list().\n",
    "    print(f\"{i}. {task}\");"
   ]
  }
 ],
 "metadata": {
  "kernelspec": {
   "display_name": "Python 3 (ipykernel)",
   "language": "python",
   "name": "python3"
  },
  "language_info": {
   "codemirror_mode": {
    "name": "ipython",
    "version": 3
   },
   "file_extension": ".py",
   "mimetype": "text/x-python",
   "name": "python",
   "nbconvert_exporter": "python",
   "pygments_lexer": "ipython3",
   "version": "3.12.7"
  }
 },
 "nbformat": 4,
 "nbformat_minor": 5
}
