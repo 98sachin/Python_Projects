{
 "cells": [
  {
   "cell_type": "markdown",
   "id": "a62bee6f-b930-4068-8ca3-b557b7a0f2c3",
   "metadata": {},
   "source": [
    "# A Simple Password Checker Project\n",
    "## (command line interface(CLI) version)\n"
   ]
  },
  {
   "cell_type": "markdown",
   "id": "e444f86e-5b30-427d-bebe-4659debad778",
   "metadata": {},
   "source": [
    "### About: the app keep asking for the password until the user enters the correct one."
   ]
  },
  {
   "cell_type": "code",
   "execution_count": 1,
   "id": "5da73be1-57a1-42c8-8ec5-afd4dad401c8",
   "metadata": {},
   "outputs": [
    {
     "name": "stdin",
     "output_type": "stream",
     "text": [
      "Setup your password:  Abcd123!\n",
      "Enter the password:  asdf23!\n"
     ]
    },
    {
     "name": "stdout",
     "output_type": "stream",
     "text": [
      "Incorrect Password❌. Please try again.\n"
     ]
    },
    {
     "name": "stdin",
     "output_type": "stream",
     "text": [
      "Enter the password:  Abcd123!\n"
     ]
    },
    {
     "name": "stdout",
     "output_type": "stream",
     "text": [
      "Password accepted🙂. Welcome!!\n"
     ]
    }
   ],
   "source": [
    "correct_password = input(\"Setup your password: \");\n",
    "user_password = input(\"Enter the password: \");\n",
    "\n",
    "while user_password != correct_password:\n",
    "    print(\"Incorrect Password❌. Please try again.\");\n",
    "    user_password = input(\"Enter the password: \");\n",
    "\n",
    "print(\"Password accepted🙂. Welcome!!\");"
   ]
  },
  {
   "cell_type": "markdown",
   "id": "983883f3-544a-45c7-b5e5-aedc14f3f093",
   "metadata": {},
   "source": [
    "#### In the above code you can see the password in the terminal when the user tries to setup the password. To prevent the password being displayed in the terminal or command line we will use 'getpass module' to enhance the security.\n",
    "\n",
    "#### For that we will have to first import the getpass module then use the key function 'getpass.getpass(\"Your code/text here\")'."
   ]
  },
  {
   "cell_type": "code",
   "execution_count": 5,
   "id": "576da066-a5e4-461e-ba56-1e3754a992a2",
   "metadata": {},
   "outputs": [
    {
     "name": "stdin",
     "output_type": "stream",
     "text": [
      "Setup your password:  ········\n",
      "Enter the password:  ········\n"
     ]
    },
    {
     "name": "stdout",
     "output_type": "stream",
     "text": [
      "Password accepted🙂. Welcome!!\n"
     ]
    }
   ],
   "source": [
    "import getpass;\n",
    "\n",
    "correct_password = getpass.getpass(\"Setup your password: \");\n",
    "user_password = getpass.getpass(\"Enter the password: \");\n",
    "\n",
    "while user_password != correct_password:\n",
    "    print(\"Incorrect Password❌. Please try again.\");\n",
    "    user_password = getpass.getpass(\"Enter the password: \");\n",
    "\n",
    "print(\"Password accepted🙂. Welcome!!\");"
   ]
  },
  {
   "cell_type": "markdown",
   "id": "ffff7864-199e-4c43-ac97-f769c1b5e2a3",
   "metadata": {},
   "source": [
    "#### You can also create a function for password checker, as shown below:"
   ]
  },
  {
   "cell_type": "code",
   "execution_count": 7,
   "id": "d24f0b05-7451-4b16-a7de-04611925e609",
   "metadata": {},
   "outputs": [
    {
     "name": "stdin",
     "output_type": "stream",
     "text": [
      "Setup your password:  ········\n",
      "Enter the password:  ········\n"
     ]
    },
    {
     "name": "stdout",
     "output_type": "stream",
     "text": [
      "Incorrect Password❌. Please try again.\n"
     ]
    },
    {
     "name": "stdin",
     "output_type": "stream",
     "text": [
      "Enter the password:  ········\n"
     ]
    },
    {
     "name": "stdout",
     "output_type": "stream",
     "text": [
      "Password accepted🙂. Welcome!!\n"
     ]
    }
   ],
   "source": [
    "def pw_checker():\n",
    "    correct_password = getpass.getpass(\"Setup your password: \");\n",
    "    user_password = getpass.getpass(\"Enter the password: \");\n",
    "\n",
    "    while user_password != correct_password:\n",
    "        print(\"Incorrect Password❌. Please try again.\");\n",
    "        user_password = getpass.getpass(\"Enter the password: \");\n",
    "\n",
    "    print(\"Password accepted🙂. Welcome!!\");\n",
    "\n",
    "# call the function\n",
    "pw_checker();"
   ]
  }
 ],
 "metadata": {
  "kernelspec": {
   "display_name": "Python 3 (ipykernel)",
   "language": "python",
   "name": "python3"
  },
  "language_info": {
   "codemirror_mode": {
    "name": "ipython",
    "version": 3
   },
   "file_extension": ".py",
   "mimetype": "text/x-python",
   "name": "python",
   "nbconvert_exporter": "python",
   "pygments_lexer": "ipython3",
   "version": "3.12.7"
  }
 },
 "nbformat": 4,
 "nbformat_minor": 5
}
