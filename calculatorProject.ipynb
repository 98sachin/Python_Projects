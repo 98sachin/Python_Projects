{
 "cells": [
  {
   "cell_type": "markdown",
   "id": "06638c93-beb8-45df-8f11-b54baef9f3c5",
   "metadata": {},
   "source": [
    "# The basic calculator project \n",
    "## (command line interface(CLI) version)"
   ]
  },
  {
   "cell_type": "markdown",
   "id": "69dde83d-c665-4cd5-a941-ee3fba47a5a0",
   "metadata": {},
   "source": [
    "## Features :-\n",
    "- Addition, Subtraction, Multiplication, Division\n",
    "- Handle divide-by-zero error\n",
    "- Loop until user chooses to exit"
   ]
  },
  {
   "cell_type": "code",
   "execution_count": 2,
   "id": "9d667471-0563-422e-9596-6a35c38c986d",
   "metadata": {},
   "outputs": [
    {
     "name": "stdout",
     "output_type": "stream",
     "text": [
      "\n",
      "Simple Calculator\n",
      "1. Add\n",
      "2. Subtract\n",
      "3. Multiply\n",
      "4. Divide\n",
      "5. Exit\n"
     ]
    },
    {
     "name": "stdin",
     "output_type": "stream",
     "text": [
      "Enter your choice (1-5):  5\n"
     ]
    },
    {
     "name": "stdout",
     "output_type": "stream",
     "text": [
      "Exiting Calculator, Good Bye👋🏽\n"
     ]
    }
   ],
   "source": [
    "def Calculator():\n",
    "    while True:\n",
    "        print(\"\\nSimple Calculator\");\n",
    "        print(\"1. Add\");\n",
    "        print(\"2. Subtract\");\n",
    "        print(\"3. Multiply\");\n",
    "        print(\"4. Divide\");\n",
    "        print(\"5. Exit\");\n",
    "\n",
    "        choice = input(\"Enter your choice (1-5): \");\n",
    "\n",
    "        if choice == '5':\n",
    "            print(\"Exiting Calculator, Good Bye👋🏽\");\n",
    "            break;\n",
    "\n",
    "        num1 = float(input(\"Enter the 1st number: \"));\n",
    "        num2 = float(input(\"Enter the 2nd number: \"));\n",
    "\n",
    "        if choice == '1':\n",
    "            print(f\"Result: {num1 + num2}\");\n",
    "\n",
    "        elif choice == '2':\n",
    "            print(f\"Result: {num1 - num2}\");\n",
    "\n",
    "        elif choice == '3':\n",
    "            print(f\"Result: {num1 * num2}\");\n",
    "\n",
    "        elif choice == '4':\n",
    "            if num2 == 0:\n",
    "                print(\"Error: Cannot divide by zero\");\n",
    "            else:\n",
    "                print(f\"Result: {num1 / num2}\");\n",
    "\n",
    "        else:\n",
    "            print(\"Enter a valid input between 1 and 5.\");\n",
    "\n",
    "# Run the calculator\n",
    "Calculator();"
   ]
  },
  {
   "cell_type": "markdown",
   "id": "1042dcaf-30cd-428c-8a0d-b4025b786f0d",
   "metadata": {},
   "source": [
    "## The other way to do the same project is:"
   ]
  },
  {
   "cell_type": "code",
   "execution_count": 2,
   "id": "2438f2a8-6931-4623-b824-cb1f18912dfa",
   "metadata": {},
   "outputs": [
    {
     "name": "stdout",
     "output_type": "stream",
     "text": [
      "Simple Calculator\n",
      "1. Add\n",
      "2. Subtract\n",
      "3. Multiply\n",
      "4. Divide\n",
      "5. Exit\n"
     ]
    },
    {
     "name": "stdin",
     "output_type": "stream",
     "text": [
      "Choose from option 1 to 5:  5\n"
     ]
    },
    {
     "name": "stdout",
     "output_type": "stream",
     "text": [
      "Exiting Calculator, Good Bye👋🏽\n"
     ]
    },
    {
     "name": "stdin",
     "output_type": "stream",
     "text": [
      "Enter the 1st number:  2\n",
      "Enter the 2nd number:  2\n"
     ]
    },
    {
     "name": "stdout",
     "output_type": "stream",
     "text": [
      "Result: Invalid choice.\n"
     ]
    }
   ],
   "source": [
    "def calc(g, h, choice):\n",
    "    if choice == 1:\n",
    "        return g + h\n",
    "    elif choice == 2:\n",
    "        return g - h\n",
    "    elif choice == 3:\n",
    "        return g * h\n",
    "    elif choice == 4:\n",
    "        if h == 0:\n",
    "            return \"Error: Cannot divide by zero.\"\n",
    "        return g / h\n",
    "    else:\n",
    "        return \"Invalid choice.\"\n",
    "\n",
    "print(\"Simple Calculator\")\n",
    "print(\"1. Add\")\n",
    "print(\"2. Subtract\")\n",
    "print(\"3. Multiply\")\n",
    "print(\"4. Divide\")\n",
    "print(\"5. Exit\")\n",
    "\n",
    "try:\n",
    "    user_choice = int(input(\"Choose from option 1 to 5: \"))\n",
    "    if user_choice == 5:\n",
    "        print(\"Exiting Calculator, Good Bye👋🏽\")\n",
    "        exit()\n",
    "    t = float(input(\"Enter the 1st number: \"))\n",
    "    u = float(input(\"Enter the 2nd number: \"))\n",
    "    result = calc(t, u, user_choice)\n",
    "    print(\"Result:\", result)\n",
    "except ValueError:\n",
    "    print(\"Invalid input. Please enter numeric values.\")"
   ]
  }
 ],
 "metadata": {
  "kernelspec": {
   "display_name": "Python 3 (ipykernel)",
   "language": "python",
   "name": "python3"
  },
  "language_info": {
   "codemirror_mode": {
    "name": "ipython",
    "version": 3
   },
   "file_extension": ".py",
   "mimetype": "text/x-python",
   "name": "python",
   "nbconvert_exporter": "python",
   "pygments_lexer": "ipython3",
   "version": "3.12.7"
  }
 },
 "nbformat": 4,
 "nbformat_minor": 5
}
