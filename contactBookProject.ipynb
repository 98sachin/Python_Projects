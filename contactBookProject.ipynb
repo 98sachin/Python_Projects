{
 "cells": [
  {
   "cell_type": "markdown",
   "id": "2ed58c94-23c4-40d2-bcd2-42d53380370e",
   "metadata": {},
   "source": [
    "# A small contact book project\n",
    "### Features:\n",
    "- User can add names and phone numbers\n",
    "- User can search for a contact by name\n",
    "- User can also delete and edit contacts\n",
    "- Keep the app running until the user chooses to quit"
   ]
  },
  {
   "cell_type": "code",
   "execution_count": 6,
   "id": "29bacf96-d3c1-471c-bc8b-cf52f0fcb2e2",
   "metadata": {},
   "outputs": [
    {
     "name": "stdout",
     "output_type": "stream",
     "text": [
      "\n",
      "Simple Contact Book📖\n",
      "1. Add Contact\n",
      "2. Search Contact\n",
      "3. Edit Contact\n",
      "4. Delete Contact\n",
      "5. Show All Contact\n",
      "6. Quit\n"
     ]
    },
    {
     "name": "stdin",
     "output_type": "stream",
     "text": [
      "Choose an option between 1 and 6:  7\n"
     ]
    },
    {
     "name": "stdout",
     "output_type": "stream",
     "text": [
      "⚠️ Invalid option, Please try again\n",
      "\n",
      "Simple Contact Book📖\n",
      "1. Add Contact\n",
      "2. Search Contact\n",
      "3. Edit Contact\n",
      "4. Delete Contact\n",
      "5. Show All Contact\n",
      "6. Quit\n"
     ]
    },
    {
     "name": "stdin",
     "output_type": "stream",
     "text": [
      "Choose an option between 1 and 6:  6\n"
     ]
    },
    {
     "name": "stdout",
     "output_type": "stream",
     "text": [
      "Closing Book, GoodBye👋🏽\n"
     ]
    }
   ],
   "source": [
    "contacts = {};\n",
    "\n",
    "def add_contact():\n",
    "    name = input(\"Enter the contact name: \");bb\n",
    "    number = input(\"Enter the contact number: \");\n",
    "    contacts[name] = number;\n",
    "    print(f\"Contact {name} added successfully✅\");\n",
    "\n",
    "def search_contact():\n",
    "    name = input(\"Enter the contact name to search: \");\n",
    "    if name in contacts:\n",
    "        print(f\"{name}'s contact number is {contacts[name]}\");\n",
    "    else:\n",
    "        print(\"Contact not found❌\");\n",
    "\n",
    "def show_contact():\n",
    "    if not contacts:\n",
    "        print(\"No contacts to display\");\n",
    "    else:\n",
    "        print(\"All Contacts: \");\n",
    "        for name, number in contacts.items():\n",
    "            print(f\"{name} : {number}\");\n",
    "\n",
    "def edit_contact():\n",
    "    name = input(\"Enter the name of the contact to edit: \");\n",
    "    if name in contacts:\n",
    "        new_number = input(\"Enter the new number for {name}\");\n",
    "        contacts[name] = new_number;\n",
    "        print(f\"{name}'s contact upsated successfully\");\n",
    "    else:\n",
    "        print(\"Contact not found❌\");\n",
    "\n",
    "def del_contact():\n",
    "    name = input(\"Enter the name of the contact to delete: \");\n",
    "    if name in contacts:\n",
    "        del contacts[name];\n",
    "        print(f\" Contact {name} deleted successfully.\");\n",
    "    else:\n",
    "        print(\"Contact not found❌\");\n",
    "\n",
    "while True:\n",
    "    print(\"\\nSimple Contact Book📖\");\n",
    "    print(\"1. Add Contact\");\n",
    "    print(\"2. Search Contact\");\n",
    "    print(\"3. Edit Contact\");\n",
    "    print(\"4. Delete Contact\");\n",
    "    print(\"5. Show All Contact\");\n",
    "    print(\"6. Quit\");\n",
    "\n",
    "    choice = int(input(\"Choose an option between 1 and 6: \"));\n",
    "\n",
    "    if choice == 1:\n",
    "        add_contact();\n",
    "    elif choice == 2:\n",
    "        search_contact();\n",
    "    elif choice == 3:\n",
    "        edit_contact();\n",
    "    elif choice == 4:\n",
    "        del_contact();\n",
    "    elif choice == 5:\n",
    "        show_contact();\n",
    "    elif choice == 6:\n",
    "        print(\"Closing Book, GoodBye👋🏽\");\n",
    "        break;\n",
    "    else:\n",
    "        print(\"⚠️ Invalid option, Please try again\");\n",
    "\n",
    "    \n",
    "        "
   ]
  },
  {
   "cell_type": "markdown",
   "id": "789a7c28-40b0-4f2b-9f76-99e74ebfb5e8",
   "metadata": {},
   "source": [
    "#### Here we have to apply the exception handling so when the user enter any alphabets in the option section it can handle and not show an error"
   ]
  }
 ],
 "metadata": {
  "kernelspec": {
   "display_name": "Python 3 (ipykernel)",
   "language": "python",
   "name": "python3"
  },
  "language_info": {
   "codemirror_mode": {
    "name": "ipython",
    "version": 3
   },
   "file_extension": ".py",
   "mimetype": "text/x-python",
   "name": "python",
   "nbconvert_exporter": "python",
   "pygments_lexer": "ipython3",
   "version": "3.12.7"
  }
 },
 "nbformat": 4,
 "nbformat_minor": 5
}
